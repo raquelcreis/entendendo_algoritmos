{
 "cells": [
  {
   "attachments": {},
   "cell_type": "markdown",
   "metadata": {},
   "source": [
    "# Sequência Mais Longa"
   ]
  },
  {
   "cell_type": "code",
   "execution_count": 1,
   "metadata": {},
   "outputs": [
    {
     "name": "stdout",
     "output_type": "stream",
     "text": [
      "[[0, 0, 0, 0], [0, 0, 0, 0], [0, 0, 0, 0], [0, 0, 0, 0], [0, 0, 0, 0]]\n"
     ]
    }
   ],
   "source": [
    "dp_table_blue = [\"b\", \"l\", \"u\", \"e\"]\n",
    "dp_table_clues = [\"c\", \"l\", \"u\", \"e\", \"s\"]\n",
    "dp_table = [[0 for i in range(len(dp_table_blue))] for i in range(len(dp_table_clues))] # (5,4)\n",
    "print(dp_table)"
   ]
  },
  {
   "cell_type": "code",
   "execution_count": 5,
   "metadata": {},
   "outputs": [
    {
     "name": "stdout",
     "output_type": "stream",
     "text": [
      "[[0, 1, 2, 3], [1, 1, 2, 3], [2, 2, 2, 3], [3, 3, 3, 3], [3, 3, 3, 3]]\n"
     ]
    }
   ],
   "source": [
    "for i in range(0, len(dp_table_blue)):\n",
    "    for j in range(0, len(dp_table_clues)):\n",
    "        if dp_table_clues[j] == dp_table_blue[i]: #Deu match nas letras\n",
    "            dp_table[j][i] = dp_table[j-1][i-1] + 1 #Adicionar mais 1 ao vizinho da esquerda -> indica sequência\n",
    "        else: #Não deu match nas letras\n",
    "            dp_table[j][i] = max(dp_table[j-1][i], dp_table[j][i-1]) #Maior vizinho\n",
    "\n",
    "print(dp_table)"
   ]
  }
 ],
 "metadata": {
  "kernelspec": {
   "display_name": "Python 3",
   "language": "python",
   "name": "python3"
  },
  "language_info": {
   "codemirror_mode": {
    "name": "ipython",
    "version": 3
   },
   "file_extension": ".py",
   "mimetype": "text/x-python",
   "name": "python",
   "nbconvert_exporter": "python",
   "pygments_lexer": "ipython3",
   "version": "3.9.6"
  },
  "orig_nbformat": 4
 },
 "nbformat": 4,
 "nbformat_minor": 2
}
